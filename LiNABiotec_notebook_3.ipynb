{
  "nbformat": 4,
  "nbformat_minor": 0,
  "metadata": {
    "colab": {
      "provenance": []
    },
    "kernelspec": {
      "display_name": "Julia",
      "language": "julia",
      "name": "julia"
    },
    "language_info": {
      "file_extension": ".jl",
      "mimetype": "application/julia",
      "name": "julia"
    },
    "gpuClass": "standard"
  },
  "cells": [
    {
      "cell_type": "markdown",
      "metadata": {
        "id": "tQ1r1bbb0yBv"
      },
      "source": [
        "# <img src=\"https://github.com/JuliaLang/julia-logo-graphics/raw/master/images/julia-logo-color.png\" height=\"100\" />\n",
        "\n",
        "# LiNABiotect\n",
        "<hr/>\n",
        "## Instalação do Ambiente"
      ]
    },
    {
      "cell_type": "code",
      "metadata": {
        "id": "GIeFXS0F0zww",
        "colab": {
          "base_uri": "https://localhost:8080/"
        },
        "outputId": "9293099f-33b5-48d5-dc13-601252ddb7aa"
      },
      "source": [
        "%%shell\n",
        "set -e\n",
        "\n",
        "#---------------------------------------------------#\n",
        "JULIA_VERSION=\"1.9.2\"\n",
        "JULIA_PACKAGES=\"IJulia Plots Lux Optim OptimizationOptimisers OptimizationOptimJL Optimization DifferentialEquations SciMLSensitivity Flux ComponentArrays Random\"\n",
        "JULIA_PACKAGES_IF_GPU=\"CUDA\"\n",
        "JULIA_NUM_THREADS=2\n",
        "#---------------------------------------------------#\n",
        "\n",
        "if [ -z `which julia` ]; then\n",
        "  # Install Julia\n",
        "  JULIA_VER=`cut -d '.' -f -2 <<< \"$JULIA_VERSION\"`\n",
        "  echo \"Installing Julia $JULIA_VERSION on the current Colab Runtime...\"\n",
        "  BASE_URL=\"https://julialang-s3.julialang.org/bin/linux/x64\"\n",
        "  URL=\"$BASE_URL/$JULIA_VER/julia-$JULIA_VERSION-linux-x86_64.tar.gz\"\n",
        "  wget -nv $URL -O /tmp/julia.tar.gz # -nv means \"not verbose\"\n",
        "  tar -x -f /tmp/julia.tar.gz -C /usr/local --strip-components 1\n",
        "  rm /tmp/julia.tar.gz\n",
        "\n",
        "  # Install Packages\n",
        "  nvidia-smi -L &> /dev/null && export GPU=1 || export GPU=0\n",
        "  if [ $GPU -eq 1 ]; then\n",
        "    JULIA_PACKAGES=\"$JULIA_PACKAGES $JULIA_PACKAGES_IF_GPU\"\n",
        "  fi\n",
        "  for PKG in `echo $JULIA_PACKAGES`; do\n",
        "    echo \"Installing Julia package $PKG...\"\n",
        "    julia -e 'using Pkg; pkg\"add '$PKG'; precompile;\"' &> /dev/null\n",
        "  done\n",
        "\n",
        "  # Install kernel and rename it to \"julia\"\n",
        "  echo \"Installing IJulia kernel...\"\n",
        "  julia -e 'using IJulia; IJulia.installkernel(\"julia\", env=Dict(\n",
        "      \"JULIA_NUM_THREADS\"=>\"'\"$JULIA_NUM_THREADS\"'\"))'\n",
        "  KERNEL_DIR=`julia -e \"using IJulia; print(IJulia.kerneldir())\"`\n",
        "  KERNEL_NAME=`ls -d \"$KERNEL_DIR\"/julia*`\n",
        "  mv -f $KERNEL_NAME \"$KERNEL_DIR\"/julia\n",
        "\n",
        "  echo ''\n",
        "  echo \"Successfully installed `julia -v`!\"\n",
        "  echo \"Please reload this page (press Ctrl+R, ⌘+R, or the F5 key) then\"\n",
        "  echo \"jump to the 'Checking the Installation' section.\"\n",
        "fi"
      ],
      "execution_count": null,
      "outputs": [
        {
          "output_type": "stream",
          "name": "stdout",
          "text": [
            "Installing Julia 1.9.2 on the current Colab Runtime...\n",
            "2023-07-22 11:49:59 URL:https://julialang-s3.julialang.org/bin/linux/x64/1.9/julia-1.9.2-linux-x86_64.tar.gz [146384758/146384758] -> \"/tmp/julia.tar.gz\" [1]\n",
            "Installing Julia package IJulia...\n",
            "Installing Julia package Plots...\n",
            "Installing Julia package Lux...\n",
            "Installing Julia package Optim...\n",
            "Installing Julia package OptimizationOptimisers...\n",
            "Installing Julia package Optimization...\n",
            "Installing Julia package DifferentialEquations...\n",
            "Installing Julia package SciMLSensitivity...\n",
            "Installing Julia package Flux...\n",
            "Installing Julia package ComponentArrays...\n",
            "Installing Julia package Random...\n",
            "Installing IJulia kernel...\n",
            "\u001b[36m\u001b[1m[ \u001b[22m\u001b[39m\u001b[36m\u001b[1mInfo: \u001b[22m\u001b[39mInstalling julia kernelspec in /root/.local/share/jupyter/kernels/julia-1.9\n",
            "\n",
            "Successfully installed julia version 1.9.2!\n",
            "Please reload this page (press Ctrl+R, ⌘+R, or the F5 key) then\n",
            "jump to the 'Checking the Installation' section.\n"
          ]
        },
        {
          "output_type": "execute_result",
          "data": {
            "text/plain": []
          },
          "metadata": {},
          "execution_count": 1
        }
      ]
    },
    {
      "cell_type": "markdown",
      "source": [],
      "metadata": {
        "id": "uYl2lGDQjp-a"
      }
    },
    {
      "cell_type": "markdown",
      "metadata": {
        "id": "-OS3Ac017T1i"
      },
      "source": [
        "# Checando se deu tudo certo\n",
        "A função `versioninfo()` deve imprimir a versão de Julia e outras informações sobre o sistema:"
      ]
    },
    {
      "cell_type": "code",
      "metadata": {
        "id": "EEzvvzCl1i0F",
        "colab": {
          "base_uri": "https://localhost:8080/"
        },
        "outputId": "4b500eea-03fe-4c11-be19-b12749cfac0d"
      },
      "source": [
        "versioninfo()"
      ],
      "execution_count": 1,
      "outputs": [
        {
          "output_type": "stream",
          "name": "stdout",
          "text": [
            "Julia Version 1.9.2\n",
            "Commit e4ee485e909 (2023-07-05 09:39 UTC)\n",
            "Platform Info:\n",
            "  OS: Linux (x86_64-linux-gnu)\n",
            "  CPU: 2 × AMD EPYC 7B12\n",
            "  WORD_SIZE: 64\n",
            "  LIBM: libopenlibm\n",
            "  LLVM: libLLVM-14.0.6 (ORCJIT, znver2)\n",
            "  Threads: 3 on 2 virtual cores\n",
            "Environment:\n",
            "  LD_LIBRARY_PATH = /usr/local/nvidia/lib:/usr/local/nvidia/lib64\n",
            "  JULIA_NUM_THREADS = 2\n"
          ]
        }
      ]
    },
    {
      "cell_type": "markdown",
      "source": [
        "# Modelo da reação enzimática\n",
        "\n",
        "## Definition of toy model\n",
        "\n",
        "<p align=\"center\">\n",
        "  <img width=\"480px\" src=\"https://drive.usercontent.google.com/download?id=1_1QL_95Ds_4cdODJPvX-q-uJfllaWtBh&export=download&authuser=0&confirm=t&uuid=262e202d-1777-4aac-9605-d22a6564ecb0&at=AC2mKKTrQpq9Oqp4tssahVuwZ9au:1690029958994\"/>\n",
        "</p>\n",
        "\n",
        "Resulting on the following reactions:\n",
        "\n",
        "$$\n",
        "\\require{mhchem}\n",
        "\\begin{equation}\n",
        "    E + S \\xrightleftharpoons[k_{r1}]{k_{f1}} ES \\xrightarrow{k_{cat1}} E + P\\\\\n",
        "\\end{equation}\n",
        "$$\n",
        "\n",
        "### Simulação"
      ],
      "metadata": {
        "id": "FbnTsmC6mfDv"
      }
    },
    {
      "cell_type": "code",
      "source": [],
      "metadata": {
        "id": "PFXTQ-hHkXWE"
      },
      "execution_count": null,
      "outputs": []
    },
    {
      "cell_type": "code",
      "source": [],
      "metadata": {
        "id": "lEiG4i0xow7j"
      },
      "execution_count": null,
      "outputs": []
    },
    {
      "cell_type": "markdown",
      "source": [
        "## Plot"
      ],
      "metadata": {
        "id": "KMEAfUydn5AH"
      }
    },
    {
      "cell_type": "code",
      "source": [],
      "metadata": {
        "id": "3IHXWvJYn755"
      },
      "execution_count": null,
      "outputs": []
    },
    {
      "cell_type": "markdown",
      "source": [
        "## Adicionando redes neurais"
      ],
      "metadata": {
        "id": "9iqZUHlKoyKt"
      }
    },
    {
      "cell_type": "code",
      "source": [],
      "metadata": {
        "id": "tK_ZRXbIo1EA"
      },
      "execution_count": null,
      "outputs": []
    },
    {
      "cell_type": "markdown",
      "source": [
        "## Otimização/Treinamento\n",
        "\n",
        "<p align=\"center\">\n",
        "  <img width=\"640px\" src=\"https://drive.usercontent.google.com/download?id=1UCoJswqOwCtk3aEM7dmtZxGTii13ymVA&export=download&authuser=0&confirm=t&uuid=87de58bd-b042-4fd2-aa41-0e09fed0e96b&at=AC2mKKSynOkMxrNktdvKJFIOLHYS:1690030073267\"/>\n",
        "</p>"
      ],
      "metadata": {
        "id": "4DdpICyIpJsv"
      }
    },
    {
      "cell_type": "code",
      "source": [],
      "metadata": {
        "id": "zVsbB5VhpSAa"
      },
      "execution_count": null,
      "outputs": []
    },
    {
      "cell_type": "markdown",
      "source": [],
      "metadata": {
        "id": "TM-j0B6Hj9e3"
      }
    }
  ]
}