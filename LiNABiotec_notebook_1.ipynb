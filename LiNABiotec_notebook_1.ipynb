{
  "nbformat": 4,
  "nbformat_minor": 0,
  "metadata": {
    "colab": {
      "provenance": []
    },
    "kernelspec": {
      "display_name": "Julia",
      "language": "julia",
      "name": "julia"
    },
    "language_info": {
      "file_extension": ".jl",
      "mimetype": "application/julia",
      "name": "julia"
    },
    "gpuClass": "standard"
  },
  "cells": [
    {
      "cell_type": "markdown",
      "metadata": {
        "id": "tQ1r1bbb0yBv"
      },
      "source": [
        "# <img src=\"https://github.com/JuliaLang/julia-logo-graphics/raw/master/images/julia-logo-color.png\" height=\"100\" />\n",
        "\n",
        "# LiNABiotect\n",
        "<hr/>\n",
        "## Instalação do Ambiente"
      ]
    },
    {
      "cell_type": "code",
      "metadata": {
        "id": "GIeFXS0F0zww",
        "colab": {
          "base_uri": "https://localhost:8080/"
        },
        "outputId": "9293099f-33b5-48d5-dc13-601252ddb7aa"
      },
      "source": [
        "%%shell\n",
        "set -e\n",
        "\n",
        "#---------------------------------------------------#\n",
        "JULIA_VERSION=\"1.9.2\"\n",
        "JULIA_PACKAGES=\"IJulia Plots Lux Optim OptimizationOptimisers OptimizationOptimJL Optimization DifferentialEquations SciMLSensitivity Flux ComponentArrays Random\"\n",
        "JULIA_PACKAGES_IF_GPU=\"CUDA\"\n",
        "JULIA_NUM_THREADS=2\n",
        "#---------------------------------------------------#\n",
        "\n",
        "if [ -z `which julia` ]; then\n",
        "  # Install Julia\n",
        "  JULIA_VER=`cut -d '.' -f -2 <<< \"$JULIA_VERSION\"`\n",
        "  echo \"Installing Julia $JULIA_VERSION on the current Colab Runtime...\"\n",
        "  BASE_URL=\"https://julialang-s3.julialang.org/bin/linux/x64\"\n",
        "  URL=\"$BASE_URL/$JULIA_VER/julia-$JULIA_VERSION-linux-x86_64.tar.gz\"\n",
        "  wget -nv $URL -O /tmp/julia.tar.gz # -nv means \"not verbose\"\n",
        "  tar -x -f /tmp/julia.tar.gz -C /usr/local --strip-components 1\n",
        "  rm /tmp/julia.tar.gz\n",
        "\n",
        "  # Install Packages\n",
        "  nvidia-smi -L &> /dev/null && export GPU=1 || export GPU=0\n",
        "  if [ $GPU -eq 1 ]; then\n",
        "    JULIA_PACKAGES=\"$JULIA_PACKAGES $JULIA_PACKAGES_IF_GPU\"\n",
        "  fi\n",
        "  for PKG in `echo $JULIA_PACKAGES`; do\n",
        "    echo \"Installing Julia package $PKG...\"\n",
        "    julia -e 'using Pkg; pkg\"add '$PKG'; precompile;\"' &> /dev/null\n",
        "  done\n",
        "\n",
        "  # Install kernel and rename it to \"julia\"\n",
        "  echo \"Installing IJulia kernel...\"\n",
        "  julia -e 'using IJulia; IJulia.installkernel(\"julia\", env=Dict(\n",
        "      \"JULIA_NUM_THREADS\"=>\"'\"$JULIA_NUM_THREADS\"'\"))'\n",
        "  KERNEL_DIR=`julia -e \"using IJulia; print(IJulia.kerneldir())\"`\n",
        "  KERNEL_NAME=`ls -d \"$KERNEL_DIR\"/julia*`\n",
        "  mv -f $KERNEL_NAME \"$KERNEL_DIR\"/julia\n",
        "\n",
        "  echo ''\n",
        "  echo \"Successfully installed `julia -v`!\"\n",
        "  echo \"Please reload this page (press Ctrl+R, ⌘+R, or the F5 key) then\"\n",
        "  echo \"jump to the 'Checking the Installation' section.\"\n",
        "fi"
      ],
      "execution_count": null,
      "outputs": [
        {
          "output_type": "stream",
          "name": "stdout",
          "text": [
            "Installing Julia 1.9.2 on the current Colab Runtime...\n",
            "2023-07-22 11:49:59 URL:https://julialang-s3.julialang.org/bin/linux/x64/1.9/julia-1.9.2-linux-x86_64.tar.gz [146384758/146384758] -> \"/tmp/julia.tar.gz\" [1]\n",
            "Installing Julia package IJulia...\n",
            "Installing Julia package Plots...\n",
            "Installing Julia package Lux...\n",
            "Installing Julia package Optim...\n",
            "Installing Julia package OptimizationOptimisers...\n",
            "Installing Julia package Optimization...\n",
            "Installing Julia package DifferentialEquations...\n",
            "Installing Julia package SciMLSensitivity...\n",
            "Installing Julia package Flux...\n",
            "Installing Julia package ComponentArrays...\n",
            "Installing Julia package Random...\n",
            "Installing IJulia kernel...\n",
            "\u001b[36m\u001b[1m[ \u001b[22m\u001b[39m\u001b[36m\u001b[1mInfo: \u001b[22m\u001b[39mInstalling julia kernelspec in /root/.local/share/jupyter/kernels/julia-1.9\n",
            "\n",
            "Successfully installed julia version 1.9.2!\n",
            "Please reload this page (press Ctrl+R, ⌘+R, or the F5 key) then\n",
            "jump to the 'Checking the Installation' section.\n"
          ]
        },
        {
          "output_type": "execute_result",
          "data": {
            "text/plain": []
          },
          "metadata": {},
          "execution_count": 1
        }
      ]
    },
    {
      "cell_type": "markdown",
      "source": [],
      "metadata": {
        "id": "uYl2lGDQjp-a"
      }
    },
    {
      "cell_type": "markdown",
      "metadata": {
        "id": "-OS3Ac017T1i"
      },
      "source": [
        "# Checando se deu tudo certo\n",
        "A função `versioninfo()` deve imprimir a versão de Julia e outras informações sobre o sistema:"
      ]
    },
    {
      "cell_type": "code",
      "metadata": {
        "id": "EEzvvzCl1i0F",
        "colab": {
          "base_uri": "https://localhost:8080/"
        },
        "outputId": "4b500eea-03fe-4c11-be19-b12749cfac0d"
      },
      "source": [
        "versioninfo()"
      ],
      "execution_count": 1,
      "outputs": [
        {
          "output_type": "stream",
          "name": "stdout",
          "text": [
            "Julia Version 1.9.2\n",
            "Commit e4ee485e909 (2023-07-05 09:39 UTC)\n",
            "Platform Info:\n",
            "  OS: Linux (x86_64-linux-gnu)\n",
            "  CPU: 2 × AMD EPYC 7B12\n",
            "  WORD_SIZE: 64\n",
            "  LIBM: libopenlibm\n",
            "  LLVM: libLLVM-14.0.6 (ORCJIT, znver2)\n",
            "  Threads: 3 on 2 virtual cores\n",
            "Environment:\n",
            "  LD_LIBRARY_PATH = /usr/local/nvidia/lib:/usr/local/nvidia/lib64\n",
            "  JULIA_NUM_THREADS = 2\n"
          ]
        }
      ]
    },
    {
      "cell_type": "markdown",
      "source": [
        "# Uma introdução super rápida à linguagem de programação Julia\n",
        "\n",
        "## Variáveis"
      ],
      "metadata": {
        "id": "W3R3Nwzna6uj"
      }
    },
    {
      "cell_type": "code",
      "metadata": {
        "id": "XciCcMAJOT3_",
        "colab": {
          "base_uri": "https://localhost:8080/"
        },
        "outputId": "56f8a755-0799-4243-9277-7dea10fad14a"
      },
      "source": [],
      "execution_count": null,
      "outputs": [
        {
          "output_type": "stream",
          "name": "stdout",
          "text": [
            "No GPU found.\n"
          ]
        }
      ]
    },
    {
      "cell_type": "markdown",
      "source": [
        "## Arrays e Operações Vetorizadas"
      ],
      "metadata": {
        "id": "w35h-zVCa_qb"
      }
    },
    {
      "cell_type": "code",
      "source": [],
      "metadata": {
        "id": "iFanb9DTa_-q"
      },
      "execution_count": null,
      "outputs": []
    },
    {
      "cell_type": "markdown",
      "source": [
        "## Comparações Númericas"
      ],
      "metadata": {
        "id": "-VYiNCP_bGJh"
      }
    },
    {
      "cell_type": "code",
      "source": [],
      "metadata": {
        "id": "RUdSGnGabJhh"
      },
      "execution_count": null,
      "outputs": []
    },
    {
      "cell_type": "markdown",
      "source": [
        "# Funções"
      ],
      "metadata": {
        "id": "rBKYLuU7bJtS"
      }
    },
    {
      "cell_type": "code",
      "source": [],
      "metadata": {
        "id": "OWdGhcWQbNJF"
      },
      "execution_count": null,
      "outputs": []
    },
    {
      "cell_type": "markdown",
      "source": [],
      "metadata": {
        "id": "L34WdOgkbNl5"
      }
    },
    {
      "cell_type": "markdown",
      "source": [
        "## Controle de Fluxo via Condicionais"
      ],
      "metadata": {
        "id": "0Mqc8exlbQoa"
      }
    },
    {
      "cell_type": "code",
      "source": [],
      "metadata": {
        "id": "Lu5fLkfYbZpE"
      },
      "execution_count": null,
      "outputs": []
    },
    {
      "cell_type": "markdown",
      "source": [
        "## Reptição de Instruções: Loop"
      ],
      "metadata": {
        "id": "pkbePYgkbaIs"
      }
    },
    {
      "cell_type": "code",
      "source": [],
      "metadata": {
        "id": "gCloxKrZbiNA"
      },
      "execution_count": null,
      "outputs": []
    },
    {
      "cell_type": "code",
      "source": [
        "using Plots\n",
        "gr();"
      ],
      "metadata": {
        "id": "u2qfg_BijxFB"
      },
      "execution_count": null,
      "outputs": []
    },
    {
      "cell_type": "markdown",
      "source": [
        "### Uma pequena explicação sobre como funciona a integração numérica\n",
        "\n",
        "Suponha que tenhamos o seguinte EDO que descreve a taxa de variação de apenas uma proteína x ao longo do tempo:\n",
        "\n",
        "$$\\frac{dx}{dt} = 4t = f(t)$$\n",
        "\n",
        "Sabendo que no instante $t_0$ a concentração de $x_0$ = 2, qual seria a concentração de $t_1$,$t_2$...$t_n$? Bem, poderíamos integrar a EDO de $t_0$ a $t_n$ algebricamente ou usando integração numérica. Um método numérico simples é o método de Euler.\n",
        "\n",
        "Fazendo algebricamente teríamos:\n",
        "\n",
        "$$\\int f(t)dt = \\int 4t dt = 2t^2 + C = F(t)$$\n",
        "\n",
        "<hr/>\n",
        "\n",
        "## Definição de F(t):\n"
      ],
      "metadata": {
        "id": "36U5yY9rjv0O"
      }
    },
    {
      "cell_type": "code",
      "source": [],
      "metadata": {
        "id": "Bq961i91jzlE"
      },
      "execution_count": null,
      "outputs": []
    },
    {
      "cell_type": "markdown",
      "source": [
        "Simulação de F(t)"
      ],
      "metadata": {
        "id": "u6Pol68Tj_fq"
      }
    },
    {
      "cell_type": "code",
      "source": [],
      "metadata": {
        "id": "QEWToTgDj-1L"
      },
      "execution_count": null,
      "outputs": []
    },
    {
      "cell_type": "markdown",
      "source": [
        "O método de Euler pode ser pensado como uma simples aproximação substituindo $dt$ por um pequeno $\\Delta t$ não infinitesimal:\n",
        "\n",
        "$$\\frac{dx}{dt} = 4t = f(t) \\approx \\frac{\\Delta x}{\\Delta t} $$\n",
        "\n",
        "onde $\\Delta x = x_{n + 1} - x_n$. Assim, resulta em:\n",
        "\n",
        "$$f(t) = \\frac{\\Delta x}{\\Delta t}$$<br/>\n",
        "$$\\Delta tf(t) = \\Delta x$$<br/>\n",
        "$${\\Delta t}f(t) = x_{n + 1} - x_n$$<br/>\n",
        "$${\\Delta t}f(t) + x_n = x_{n + 1}$$<br/>\n",
        "$$x_{n + 1} = x_n + {\\Delta t}f(t)$$<br/>\n",
        "\n",
        "<hr>\n",
        "\n",
        "## Definição de f(t)"
      ],
      "metadata": {
        "id": "XyweeJ-3kDst"
      }
    },
    {
      "cell_type": "code",
      "source": [],
      "metadata": {
        "id": "3ujOas-2kQbC"
      },
      "execution_count": null,
      "outputs": []
    },
    {
      "cell_type": "markdown",
      "source": [
        "## Implementação do Método de Euler:"
      ],
      "metadata": {
        "id": "fyalgLGUkQ1-"
      }
    },
    {
      "cell_type": "code",
      "source": [],
      "metadata": {
        "id": "CPXt_9HikFQG"
      },
      "execution_count": null,
      "outputs": []
    },
    {
      "cell_type": "markdown",
      "source": [
        "## Plot:"
      ],
      "metadata": {
        "id": "wBeK4N8ikVbu"
      }
    },
    {
      "cell_type": "code",
      "source": [],
      "metadata": {
        "id": "PFXTQ-hHkXWE"
      },
      "execution_count": null,
      "outputs": []
    },
    {
      "cell_type": "markdown",
      "source": [],
      "metadata": {
        "id": "TM-j0B6Hj9e3"
      }
    }
  ]
}