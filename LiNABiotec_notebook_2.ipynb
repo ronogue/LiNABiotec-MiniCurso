{
  "nbformat": 4,
  "nbformat_minor": 0,
  "metadata": {
    "colab": {
      "provenance": []
    },
    "kernelspec": {
      "display_name": "Julia",
      "language": "julia",
      "name": "julia"
    },
    "language_info": {
      "file_extension": ".jl",
      "mimetype": "application/julia",
      "name": "julia"
    },
    "gpuClass": "standard"
  },
  "cells": [
    {
      "cell_type": "markdown",
      "metadata": {
        "id": "tQ1r1bbb0yBv"
      },
      "source": [
        "# <img src=\"https://github.com/JuliaLang/julia-logo-graphics/raw/master/images/julia-logo-color.png\" height=\"100\" />\n",
        "\n",
        "# LiNABiotect\n",
        "<hr/>\n",
        "## Instalação do Ambiente"
      ]
    },
    {
      "cell_type": "code",
      "metadata": {
        "id": "GIeFXS0F0zww",
        "colab": {
          "base_uri": "https://localhost:8080/"
        },
        "outputId": "9293099f-33b5-48d5-dc13-601252ddb7aa"
      },
      "source": [
        "%%shell\n",
        "set -e\n",
        "\n",
        "#---------------------------------------------------#\n",
        "JULIA_VERSION=\"1.9.2\"\n",
        "JULIA_PACKAGES=\"IJulia Plots Lux Optim OptimizationOptimisers OptimizationOptimJL Optimization DifferentialEquations SciMLSensitivity Flux ComponentArrays Random\"\n",
        "JULIA_PACKAGES_IF_GPU=\"CUDA\"\n",
        "JULIA_NUM_THREADS=2\n",
        "#---------------------------------------------------#\n",
        "\n",
        "if [ -z `which julia` ]; then\n",
        "  # Install Julia\n",
        "  JULIA_VER=`cut -d '.' -f -2 <<< \"$JULIA_VERSION\"`\n",
        "  echo \"Installing Julia $JULIA_VERSION on the current Colab Runtime...\"\n",
        "  BASE_URL=\"https://julialang-s3.julialang.org/bin/linux/x64\"\n",
        "  URL=\"$BASE_URL/$JULIA_VER/julia-$JULIA_VERSION-linux-x86_64.tar.gz\"\n",
        "  wget -nv $URL -O /tmp/julia.tar.gz # -nv means \"not verbose\"\n",
        "  tar -x -f /tmp/julia.tar.gz -C /usr/local --strip-components 1\n",
        "  rm /tmp/julia.tar.gz\n",
        "\n",
        "  # Install Packages\n",
        "  nvidia-smi -L &> /dev/null && export GPU=1 || export GPU=0\n",
        "  if [ $GPU -eq 1 ]; then\n",
        "    JULIA_PACKAGES=\"$JULIA_PACKAGES $JULIA_PACKAGES_IF_GPU\"\n",
        "  fi\n",
        "  for PKG in `echo $JULIA_PACKAGES`; do\n",
        "    echo \"Installing Julia package $PKG...\"\n",
        "    julia -e 'using Pkg; pkg\"add '$PKG'; precompile;\"' &> /dev/null\n",
        "  done\n",
        "\n",
        "  # Install kernel and rename it to \"julia\"\n",
        "  echo \"Installing IJulia kernel...\"\n",
        "  julia -e 'using IJulia; IJulia.installkernel(\"julia\", env=Dict(\n",
        "      \"JULIA_NUM_THREADS\"=>\"'\"$JULIA_NUM_THREADS\"'\"))'\n",
        "  KERNEL_DIR=`julia -e \"using IJulia; print(IJulia.kerneldir())\"`\n",
        "  KERNEL_NAME=`ls -d \"$KERNEL_DIR\"/julia*`\n",
        "  mv -f $KERNEL_NAME \"$KERNEL_DIR\"/julia\n",
        "\n",
        "  echo ''\n",
        "  echo \"Successfully installed `julia -v`!\"\n",
        "  echo \"Please reload this page (press Ctrl+R, ⌘+R, or the F5 key) then\"\n",
        "  echo \"jump to the 'Checking the Installation' section.\"\n",
        "fi"
      ],
      "execution_count": null,
      "outputs": [
        {
          "output_type": "stream",
          "name": "stdout",
          "text": [
            "Installing Julia 1.9.2 on the current Colab Runtime...\n",
            "2023-07-22 11:49:59 URL:https://julialang-s3.julialang.org/bin/linux/x64/1.9/julia-1.9.2-linux-x86_64.tar.gz [146384758/146384758] -> \"/tmp/julia.tar.gz\" [1]\n",
            "Installing Julia package IJulia...\n",
            "Installing Julia package Plots...\n",
            "Installing Julia package Lux...\n",
            "Installing Julia package Optim...\n",
            "Installing Julia package OptimizationOptimisers...\n",
            "Installing Julia package Optimization...\n",
            "Installing Julia package DifferentialEquations...\n",
            "Installing Julia package SciMLSensitivity...\n",
            "Installing Julia package Flux...\n",
            "Installing Julia package ComponentArrays...\n",
            "Installing Julia package Random...\n",
            "Installing IJulia kernel...\n",
            "\u001b[36m\u001b[1m[ \u001b[22m\u001b[39m\u001b[36m\u001b[1mInfo: \u001b[22m\u001b[39mInstalling julia kernelspec in /root/.local/share/jupyter/kernels/julia-1.9\n",
            "\n",
            "Successfully installed julia version 1.9.2!\n",
            "Please reload this page (press Ctrl+R, ⌘+R, or the F5 key) then\n",
            "jump to the 'Checking the Installation' section.\n"
          ]
        },
        {
          "output_type": "execute_result",
          "data": {
            "text/plain": []
          },
          "metadata": {},
          "execution_count": 1
        }
      ]
    },
    {
      "cell_type": "markdown",
      "source": [],
      "metadata": {
        "id": "uYl2lGDQjp-a"
      }
    },
    {
      "cell_type": "markdown",
      "metadata": {
        "id": "-OS3Ac017T1i"
      },
      "source": [
        "# Checando se deu tudo certo\n",
        "A função `versioninfo()` deve imprimir a versão de Julia e outras informações sobre o sistema:"
      ]
    },
    {
      "cell_type": "code",
      "metadata": {
        "id": "EEzvvzCl1i0F",
        "colab": {
          "base_uri": "https://localhost:8080/"
        },
        "outputId": "4b500eea-03fe-4c11-be19-b12749cfac0d"
      },
      "source": [
        "versioninfo()"
      ],
      "execution_count": 1,
      "outputs": [
        {
          "output_type": "stream",
          "name": "stdout",
          "text": [
            "Julia Version 1.9.2\n",
            "Commit e4ee485e909 (2023-07-05 09:39 UTC)\n",
            "Platform Info:\n",
            "  OS: Linux (x86_64-linux-gnu)\n",
            "  CPU: 2 × AMD EPYC 7B12\n",
            "  WORD_SIZE: 64\n",
            "  LIBM: libopenlibm\n",
            "  LLVM: libLLVM-14.0.6 (ORCJIT, znver2)\n",
            "  Threads: 3 on 2 virtual cores\n",
            "Environment:\n",
            "  LD_LIBRARY_PATH = /usr/local/nvidia/lib:/usr/local/nvidia/lib64\n",
            "  JULIA_NUM_THREADS = 2\n"
          ]
        }
      ]
    },
    {
      "cell_type": "markdown",
      "source": [
        "# Modelo da reação enzimática\n",
        "\n",
        "## Definition of toy model\n",
        "\n",
        "<p align=\"center\">\n",
        "  <img width=\"480px\" src=\"https://doc-0c-2s-docs.googleusercontent.com/docs/securesc/lmr8anjbmnqqdjm5o3nqommu2igs10a1/h1o5jjnpohrnj88tb3b74bsukek9otfk/1690029675000/06277837039359635046/06277837039359635046/12CRmVFWaW6ZbT8F_9cajfQGlB_WbRiM_?e=download&ax=AGtFMPWNZOUmcabdhLtKoOTeCCcD7VAgs3sE1I8z_L9iwLbiWAmQxUGOHM_ZotiFD3e3vo2yVzKXWuvvWNTnhWESg-2NAQ2Qd8SDR4s1BFdGBAYVZ-M3o_B6BrjljraWr_XAnm9CA6GC7U0Rwg2eascRX-3PNk5gCknn3Pj3Ebf-3EVlWL6_1ZUyYvCAwpGizYqwGpWi4XkdlzLtByFb7dT-oNJ8y5SKNvRJMxAWPbJ1lBHJe8Hqd12LUp3CqqcCmzBA6-mh3Y54gUFrYrAvsfWVPgDVo-tShKCY6wYcP3_gbjuwYLDHam-10RKCVZYgKhnbyIms8qPBpZ-rS1Wn24ghEmiZ3wzj76ugWjwF-Z7A0_X0XKeU434ruC1j1BFdqOOSmRlEbu9uK0B0WMD7Qkelbw2G75Ytz_HugT15MBATBYACGzP_tWvQ2rK4OM6nJczkU-1ZVkJRS1Xt7qWnM3uR5XUDukw3kMwvzlPyo7yAAyocbYwKQiMAjdOLmxon-OzfiWJahSvtg9v4YJ-irb2qL2d6-VEvvPy-DwYCFYGFYwZvyuXaYLeWVk1aObxtbSVdpXrl_6tvYEOoSL4Vb5Y5i-FOOuMchuLctgkaK04QEw1MRQ9AZQAifx99bqjoTSv8LjiqX-9-VXgO1BeNk400YB0Bo8nlI1DtVOMD4oncUS42UffaURmg9rRfYNaBciM6OY02mZRdAo1RoZvP7n_3fftc9a9UyYeLPKR5nPyQ14FhQjk-I_uqbe1Maes5EBOdV4aFxgWjeP21dSIdq_KkjNP6XEsjgELTA6algmWTp5vTD11h8zKcq2BlCAtawA9xkdalkqSPkuFDvFswyQfLs1JWaGMVsCaw89OyUtl03hdUtpur2TPY6zlNFs8ts2rDmDNcwH9EMF7osvOl_lQOuYr0pG9xYarWRsOF&uuid=2659bafd-eeb2-4705-a19c-ff18743a2fd4&authuser=0&nonce=ad4t946518vki&user=06277837039359635046&hash=up1fn19qjjnk5er6l5j86m0b3kgltr1d\"/>\n",
        "</p>\n",
        "\n",
        "Resulting on the following reactions:\n",
        "\n",
        "$$\n",
        "\\require{mhchem}\n",
        "\\begin{equation}\n",
        "    E + S \\xrightleftharpoons[k_{r1}]{k_{f1}} ES \\xrightarrow{k_{cat1}} E + P\\\\\n",
        "\\end{equation}\n",
        "$$\n",
        "\n",
        "### Simulação"
      ],
      "metadata": {
        "id": "FbnTsmC6mfDv"
      }
    },
    {
      "cell_type": "code",
      "source": [],
      "metadata": {
        "id": "PFXTQ-hHkXWE"
      },
      "execution_count": null,
      "outputs": []
    },
    {
      "cell_type": "markdown",
      "source": [
        "## Plot"
      ],
      "metadata": {
        "id": "KMEAfUydn5AH"
      }
    },
    {
      "cell_type": "code",
      "source": [],
      "metadata": {
        "id": "3IHXWvJYn755"
      },
      "execution_count": null,
      "outputs": []
    },
    {
      "cell_type": "markdown",
      "source": [],
      "metadata": {
        "id": "TM-j0B6Hj9e3"
      }
    }
  ]
}